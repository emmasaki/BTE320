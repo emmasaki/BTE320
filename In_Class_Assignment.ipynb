{
  "nbformat": 4,
  "nbformat_minor": 0,
  "metadata": {
    "colab": {
      "provenance": [],
      "authorship_tag": "ABX9TyMLLLtdHXhTfqmpWaoaGrpg",
      "include_colab_link": true
    },
    "kernelspec": {
      "name": "python3",
      "display_name": "Python 3"
    },
    "language_info": {
      "name": "python"
    }
  },
  "cells": [
    {
      "cell_type": "markdown",
      "metadata": {
        "id": "view-in-github",
        "colab_type": "text"
      },
      "source": [
        "<a href=\"https://colab.research.google.com/github/emmasaki/BTE320/blob/main/In_Class_Assignment.ipynb\" target=\"_parent\"><img src=\"https://colab.research.google.com/assets/colab-badge.svg\" alt=\"Open In Colab\"/></a>"
      ]
    },
    {
      "cell_type": "code",
      "execution_count": 12,
      "metadata": {
        "colab": {
          "base_uri": "https://localhost:8080/"
        },
        "id": "ytyzNjRBgfyL",
        "outputId": "d18c8e3c-4cef-446a-cd9b-f04501d14901"
      },
      "outputs": [
        {
          "output_type": "stream",
          "name": "stdout",
          "text": [
            "Enter your sales: 12000\n",
            "Sales: $ 12000\n",
            "Enter COGS (%): 40\n",
            "COGS: $ 4800.0\n",
            "Gross profit: $7200.0\n",
            "Enter your tax rate (%): 30\n",
            "Taxes: $ 2160.0\n",
            "Net Income: $ 5040.0\n"
          ]
        }
      ],
      "source": [
        "sales = int(input(\"Enter your sales: \"))\n",
        "print(\"Sales: $\", sales)\n",
        "sales = float(sales)\n",
        "cogspct = input(\"Enter COGS (%): \")\n",
        "cogspct = float(cogspct)\n",
        "cogs = (sales*cogspct)/100\n",
        "print(\"COGS: $\", cogs)\n",
        "grossProfit = sales - cogs\n",
        "print(f\"Gross profit: ${grossProfit}\")\n",
        "\n",
        "taxRate=int(input(\"Enter your tax rate (%): \"))\n",
        "tax = taxRate*grossProfit/100\n",
        "print(\"Taxes: $\",tax)\n",
        "netIncome = grossProfit-tax\n",
        "print(\"Net Income: $\", netIncome)\n"
      ]
    }
  ]
}