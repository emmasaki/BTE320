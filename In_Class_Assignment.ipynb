{
  "nbformat": 4,
  "nbformat_minor": 0,
  "metadata": {
    "colab": {
      "provenance": [],
      "authorship_tag": "ABX9TyMcmoH4ETGsME03xYBvPvw/",
      "include_colab_link": true
    },
    "kernelspec": {
      "name": "python3",
      "display_name": "Python 3"
    },
    "language_info": {
      "name": "python"
    }
  },
  "cells": [
    {
      "cell_type": "markdown",
      "metadata": {
        "id": "view-in-github",
        "colab_type": "text"
      },
      "source": [
        "<a href=\"https://colab.research.google.com/github/emmasaki/BTE320/blob/main/In_Class_Assignment.ipynb\" target=\"_parent\"><img src=\"https://colab.research.google.com/assets/colab-badge.svg\" alt=\"Open In Colab\"/></a>"
      ]
    },
    {
      "cell_type": "code",
      "execution_count": null,
      "metadata": {
        "colab": {
          "base_uri": "https://localhost:8080/"
        },
        "id": "ytyzNjRBgfyL",
        "outputId": "d18c8e3c-4cef-446a-cd9b-f04501d14901"
      },
      "outputs": [
        {
          "output_type": "stream",
          "name": "stdout",
          "text": [
            "Enter your sales: 12000\n",
            "Sales: $ 12000\n",
            "Enter COGS (%): 40\n",
            "COGS: $ 4800.0\n",
            "Gross profit: $7200.0\n",
            "Enter your tax rate (%): 30\n",
            "Taxes: $ 2160.0\n",
            "Net Income: $ 5040.0\n"
          ]
        }
      ],
      "source": [
        "sales = int(input(\"Enter your sales: \"))\n",
        "print(\"Sales: $\", sales)\n",
        "sales = float(sales)\n",
        "cogspct = input(\"Enter COGS (%): \")\n",
        "cogspct = float(cogspct)\n",
        "cogs = (sales*cogspct)/100\n",
        "print(\"COGS: $\", cogs)\n",
        "grossProfit = sales - cogs\n",
        "print(f\"Gross profit: ${grossProfit}\")\n",
        "\n",
        "taxRate=int(input(\"Enter your tax rate (%): \"))\n",
        "tax = taxRate*grossProfit/100\n",
        "print(\"Taxes: $\",tax)\n",
        "netIncome = grossProfit-tax\n",
        "print(\"Net Income: $\", netIncome)\n"
      ]
    },
    {
      "cell_type": "code",
      "source": [
        "demand = input(\"Enter demand (units/year): \")\n",
        "demand = int(demand)\n",
        "reorder = input(\"Enter reorder cost ($/order): \")\n",
        "reorder = float(reorder)\n",
        "holding = input(\"Enter holding cost ($/unit): \")\n",
        "holding = float(holding)\n",
        "eoq = (2*demand*reorder/holding)**0.5\n",
        "print(f\"The economic order quantity (EOQ) is : {eoq} units\")"
      ],
      "metadata": {
        "colab": {
          "base_uri": "https://localhost:8080/"
        },
        "id": "raqOS-ufgIDy",
        "outputId": "824f3d4c-e48d-49ec-c8f3-2eee156dd255"
      },
      "execution_count": null,
      "outputs": [
        {
          "output_type": "stream",
          "name": "stdout",
          "text": [
            "Enter demand (units/year): 100\n",
            "Enter reorder cost ($/order): 1.5\n",
            "Enter holding cost ($/unit): 3\n",
            "The economic order quantity (EOQ) is : 10.0 units\n"
          ]
        }
      ]
    },
    {
      "cell_type": "code",
      "source": [
        "op = (input(\"Enter an operator (+, -, *, /, //, **, %): \"))\n",
        "x = float(input(\"Enter your first number: \"))\n",
        "y = float(input(\"Enter your second number: \"))\n",
        "if op== \"+\":\n",
        "  print(x+y)\n",
        "elif op== \"-\":\n",
        "   print(x-y)\n",
        "elif op== \"*\":\n",
        "   print(x*y)\n",
        "elif op== \"/\":\n",
        "   print(x/y)\n",
        "elif op == \"//\":\n",
        "   print(x//y)\n",
        "elif op == \"**\":\n",
        "   print(x**y)\n",
        "elif op == \"%\":\n",
        "   print(x%y)\n",
        "else:\n",
        "    print(\"Invalid operator\")\n"
      ],
      "metadata": {
        "colab": {
          "base_uri": "https://localhost:8080/"
        },
        "id": "VJwsNT45Nq14",
        "outputId": "1b9fc151-f303-4897-fb9b-992033d27211"
      },
      "execution_count": null,
      "outputs": [
        {
          "output_type": "stream",
          "name": "stdout",
          "text": [
            "Enter an operator (+, -, *, /, //, **, %): +\n",
            "Enter your first number: 1\n",
            "Enter your second number: 2\n",
            "3.0\n"
          ]
        }
      ]
    },
    {
      "cell_type": "code",
      "source": [
        "for hour in range(1,9,1):\n",
        "  fee = 5 + 2.5*hour\n",
        "  if fee<10:\n",
        "    fee = 10\n",
        "  elif fee>20:\n",
        "    fee = 20\n",
        "  print(f\"{hour}\\t{fee}\")\n"
      ],
      "metadata": {
        "colab": {
          "base_uri": "https://localhost:8080/"
        },
        "id": "R3aIGUZKh04Z",
        "outputId": "689cea2c-74a4-4441-8124-3613db4ce733"
      },
      "execution_count": null,
      "outputs": [
        {
          "output_type": "stream",
          "name": "stdout",
          "text": [
            "1\t10\n",
            "2\t10.0\n",
            "3\t12.5\n",
            "4\t15.0\n",
            "5\t17.5\n",
            "6\t20.0\n",
            "7\t20\n",
            "8\t20\n"
          ]
        }
      ]
    },
    {
      "cell_type": "code",
      "source": [
        "hour = 1\n",
        "while hour < 9:\n",
        "  fee = 5 + 2.5*hour\n",
        "  if fee<10:\n",
        "    fee = 10\n",
        "  elif fee>20:\n",
        "    fee = 20\n",
        "  print(f\"{hour}\\t{fee}\")\n",
        "  hour = hour +1"
      ],
      "metadata": {
        "colab": {
          "base_uri": "https://localhost:8080/"
        },
        "id": "HbT-dQU3s9Jf",
        "outputId": "98624c10-29d4-4bd0-85fe-7ab184c948f7"
      },
      "execution_count": null,
      "outputs": [
        {
          "output_type": "stream",
          "name": "stdout",
          "text": [
            "1\t10\n",
            "2\t10.0\n",
            "3\t12.5\n",
            "4\t15.0\n",
            "5\t17.5\n",
            "6\t20.0\n",
            "7\t20\n",
            "8\t20\n"
          ]
        }
      ]
    },
    {
      "cell_type": "code",
      "source": [
        "for i in range(10):\n",
        "  if i%2 !=0:\n",
        "    continue\n",
        "  print(i)"
      ],
      "metadata": {
        "colab": {
          "base_uri": "https://localhost:8080/"
        },
        "id": "yE11uepAuxHp",
        "outputId": "2af5668f-c9e3-4bba-9415-dec03b4beaf8"
      },
      "execution_count": null,
      "outputs": [
        {
          "output_type": "stream",
          "name": "stdout",
          "text": [
            "0\n",
            "2\n",
            "4\n",
            "6\n",
            "8\n"
          ]
        }
      ]
    },
    {
      "cell_type": "code",
      "source": [
        "  for i in range(100000000):\n",
        "    if i == 3:\n",
        "      break\n",
        "    print(i)"
      ],
      "metadata": {
        "colab": {
          "base_uri": "https://localhost:8080/"
        },
        "id": "KleEqh6lvUbP",
        "outputId": "8a9705af-8e21-4134-81b8-e998b800cb4d"
      },
      "execution_count": null,
      "outputs": [
        {
          "output_type": "stream",
          "name": "stdout",
          "text": [
            "0\n",
            "1\n",
            "2\n"
          ]
        }
      ]
    },
    {
      "cell_type": "code",
      "source": [
        "print(\"Ad $ profit\")\n",
        "for adDollars in range(0,201,25):\n",
        "  revenue = 20*10+10*2*adDollars **0.5\n",
        "  expenses = adDollars + 200\n",
        "  profit = revenue - expenses\n",
        "  print(adDollars, round(profit))\n"
      ],
      "metadata": {
        "colab": {
          "base_uri": "https://localhost:8080/"
        },
        "id": "DFd2ufDlg6Oy",
        "outputId": "2e5be921-cdb5-4991-80d5-62a75135d1fb"
      },
      "execution_count": null,
      "outputs": [
        {
          "output_type": "stream",
          "name": "stdout",
          "text": [
            "Ad $ profit\n",
            "0 0\n",
            "25 75\n",
            "50 91\n",
            "75 98\n",
            "100 100\n",
            "125 99\n",
            "150 95\n",
            "175 90\n",
            "200 83\n"
          ]
        }
      ]
    },
    {
      "cell_type": "code",
      "source": [
        "L = []\n",
        "num = float(input(\"Add a number: \"))\n",
        "\n",
        "while num != 0:\n",
        "  L.append(num)\n",
        "  num = float(input(\"Add another number: \"))\n",
        "\n",
        "L.sort(reverse=True)\n",
        "print(L)\n"
      ],
      "metadata": {
        "colab": {
          "base_uri": "https://localhost:8080/"
        },
        "id": "5GW7GZ_MvnwF",
        "outputId": "722bf284-e789-4478-f21d-af7f92aaff40"
      },
      "execution_count": null,
      "outputs": [
        {
          "output_type": "stream",
          "name": "stdout",
          "text": [
            "Add a number: 1\n",
            "Add another number: 4\n",
            "Add another number: 7\n",
            "Add another number: 2\n",
            "Add another number: 0\n",
            "[7.0, 4.0, 2.0, 1.0]\n"
          ]
        }
      ]
    },
    {
      "cell_type": "code",
      "source": [
        "import random\n",
        "print(\"Welcome to Rock-Paper-Scissors!\")\n",
        "play = input(\"Do you want to play? (y/n): \").lower()\n",
        "\n",
        "while play == \"y\":\n",
        "    user_choice = input(\"Choose rock, paper, or scissors: \").lower()\n",
        "    computer = random.choice(['rock', 'paper', 'scissors'])\n",
        "    print(\"Computer chose:\", computer)\n",
        "    if user_choice == computer:\n",
        "        print(\"It's a tie!\")\n",
        "    elif (user_choice == \"rock\" and computer == \"scissors\") or \\\n",
        "         (user_choice == \"paper\" and computer == \"rock\") or \\\n",
        "         (user_choice == \"scissors\" and computer == \"paper\"):\n",
        "        print(\"You win!\")\n",
        "    else:\n",
        "        print(\"You lose!\")\n",
        "    play = input(\"Do you want to play again? (y/n): \").lower()\n",
        "\n",
        "print(\"Thanks for playing!\")"
      ],
      "metadata": {
        "colab": {
          "base_uri": "https://localhost:8080/"
        },
        "id": "PQNDkddyvM-L",
        "outputId": "670eca0e-f31a-4fb9-ae01-e9b7397beb70"
      },
      "execution_count": null,
      "outputs": [
        {
          "output_type": "stream",
          "name": "stdout",
          "text": [
            "Welcome to Rock-Paper-Scissors!\n",
            "Do you want to play? (y/n): y\n",
            "Choose rock, paper, or scissors: rock\n",
            "Computer chose: rock\n",
            "It's a tie!\n",
            "Do you want to play again? (y/n): y\n",
            "Choose rock, paper, or scissors: paper\n",
            "Computer chose: rock\n",
            "You win!\n",
            "Do you want to play again? (y/n): n\n",
            "Thanks for playing!\n"
          ]
        }
      ]
    },
    {
      "cell_type": "code",
      "source": [
        "p01 = 9.95\n",
        "p02 = 10.50\n",
        "\n",
        "product = input(\"Enter the product code: \")\n",
        "while product != \"0\":\n",
        "  if product == \"P-01\":\n",
        "    print(p01)\n",
        "    product = input(\"Enter another product code: \")\n",
        "  elif product == \"P-02\":\n",
        "    print(p02)\n",
        "    product = input(\"Enter another product code: \")\n",
        "  else:\n",
        "    print('Invalid product code')\n",
        "    product = input(\"Enter another product code: \")"
      ],
      "metadata": {
        "colab": {
          "base_uri": "https://localhost:8080/",
          "height": 400
        },
        "id": "xzw8fIEowF0-",
        "outputId": "e46cd2ee-bb47-46c7-d396-788dfaa25cae"
      },
      "execution_count": 1,
      "outputs": [
        {
          "output_type": "stream",
          "name": "stdout",
          "text": [
            "Enter the product code: P-01\n",
            "9.95\n"
          ]
        },
        {
          "output_type": "error",
          "ename": "KeyboardInterrupt",
          "evalue": "Interrupted by user",
          "traceback": [
            "\u001b[0;31m---------------------------------------------------------------------------\u001b[0m",
            "\u001b[0;31mKeyboardInterrupt\u001b[0m                         Traceback (most recent call last)",
            "\u001b[0;32m/tmp/ipython-input-655816255.py\u001b[0m in \u001b[0;36m<cell line: 0>\u001b[0;34m()\u001b[0m\n\u001b[1;32m      6\u001b[0m   \u001b[0;32mif\u001b[0m \u001b[0mproduct\u001b[0m \u001b[0;34m==\u001b[0m \u001b[0;34m\"P-01\"\u001b[0m\u001b[0;34m:\u001b[0m\u001b[0;34m\u001b[0m\u001b[0;34m\u001b[0m\u001b[0m\n\u001b[1;32m      7\u001b[0m     \u001b[0mprint\u001b[0m\u001b[0;34m(\u001b[0m\u001b[0mp01\u001b[0m\u001b[0;34m)\u001b[0m\u001b[0;34m\u001b[0m\u001b[0;34m\u001b[0m\u001b[0m\n\u001b[0;32m----> 8\u001b[0;31m     \u001b[0mproduct\u001b[0m \u001b[0;34m=\u001b[0m \u001b[0minput\u001b[0m\u001b[0;34m(\u001b[0m\u001b[0;34m\"Enter another product code: \"\u001b[0m\u001b[0;34m)\u001b[0m\u001b[0;34m\u001b[0m\u001b[0;34m\u001b[0m\u001b[0m\n\u001b[0m\u001b[1;32m      9\u001b[0m   \u001b[0;32melif\u001b[0m \u001b[0mproduct\u001b[0m \u001b[0;34m==\u001b[0m \u001b[0;34m\"P-02\"\u001b[0m\u001b[0;34m:\u001b[0m\u001b[0;34m\u001b[0m\u001b[0;34m\u001b[0m\u001b[0m\n\u001b[1;32m     10\u001b[0m     \u001b[0mprint\u001b[0m\u001b[0;34m(\u001b[0m\u001b[0mp02\u001b[0m\u001b[0;34m)\u001b[0m\u001b[0;34m\u001b[0m\u001b[0;34m\u001b[0m\u001b[0m\n",
            "\u001b[0;32m/usr/local/lib/python3.12/dist-packages/ipykernel/kernelbase.py\u001b[0m in \u001b[0;36mraw_input\u001b[0;34m(self, prompt)\u001b[0m\n\u001b[1;32m   1175\u001b[0m                 \u001b[0;34m\"raw_input was called, but this frontend does not support input requests.\"\u001b[0m\u001b[0;34m\u001b[0m\u001b[0;34m\u001b[0m\u001b[0m\n\u001b[1;32m   1176\u001b[0m             )\n\u001b[0;32m-> 1177\u001b[0;31m         return self._input_request(\n\u001b[0m\u001b[1;32m   1178\u001b[0m             \u001b[0mstr\u001b[0m\u001b[0;34m(\u001b[0m\u001b[0mprompt\u001b[0m\u001b[0;34m)\u001b[0m\u001b[0;34m,\u001b[0m\u001b[0;34m\u001b[0m\u001b[0;34m\u001b[0m\u001b[0m\n\u001b[1;32m   1179\u001b[0m             \u001b[0mself\u001b[0m\u001b[0;34m.\u001b[0m\u001b[0m_parent_ident\u001b[0m\u001b[0;34m[\u001b[0m\u001b[0;34m\"shell\"\u001b[0m\u001b[0;34m]\u001b[0m\u001b[0;34m,\u001b[0m\u001b[0;34m\u001b[0m\u001b[0;34m\u001b[0m\u001b[0m\n",
            "\u001b[0;32m/usr/local/lib/python3.12/dist-packages/ipykernel/kernelbase.py\u001b[0m in \u001b[0;36m_input_request\u001b[0;34m(self, prompt, ident, parent, password)\u001b[0m\n\u001b[1;32m   1217\u001b[0m             \u001b[0;32mexcept\u001b[0m \u001b[0mKeyboardInterrupt\u001b[0m\u001b[0;34m:\u001b[0m\u001b[0;34m\u001b[0m\u001b[0;34m\u001b[0m\u001b[0m\n\u001b[1;32m   1218\u001b[0m                 \u001b[0;31m# re-raise KeyboardInterrupt, to truncate traceback\u001b[0m\u001b[0;34m\u001b[0m\u001b[0;34m\u001b[0m\u001b[0m\n\u001b[0;32m-> 1219\u001b[0;31m                 \u001b[0;32mraise\u001b[0m \u001b[0mKeyboardInterrupt\u001b[0m\u001b[0;34m(\u001b[0m\u001b[0;34m\"Interrupted by user\"\u001b[0m\u001b[0;34m)\u001b[0m \u001b[0;32mfrom\u001b[0m \u001b[0;32mNone\u001b[0m\u001b[0;34m\u001b[0m\u001b[0;34m\u001b[0m\u001b[0m\n\u001b[0m\u001b[1;32m   1220\u001b[0m             \u001b[0;32mexcept\u001b[0m \u001b[0mException\u001b[0m\u001b[0;34m:\u001b[0m\u001b[0;34m\u001b[0m\u001b[0;34m\u001b[0m\u001b[0m\n\u001b[1;32m   1221\u001b[0m                 \u001b[0mself\u001b[0m\u001b[0;34m.\u001b[0m\u001b[0mlog\u001b[0m\u001b[0;34m.\u001b[0m\u001b[0mwarning\u001b[0m\u001b[0;34m(\u001b[0m\u001b[0;34m\"Invalid Message:\"\u001b[0m\u001b[0;34m,\u001b[0m \u001b[0mexc_info\u001b[0m\u001b[0;34m=\u001b[0m\u001b[0;32mTrue\u001b[0m\u001b[0;34m)\u001b[0m\u001b[0;34m\u001b[0m\u001b[0;34m\u001b[0m\u001b[0m\n",
            "\u001b[0;31mKeyboardInterrupt\u001b[0m: Interrupted by user"
          ]
        }
      ]
    },
    {
      "cell_type": "code",
      "source": [
        "products = {\n",
        "    \"P-01\": 9.95,\n",
        "    \"P-02\": 10.50\n",
        "}\n",
        "user_key = input(\"Enter product ID: \")\n",
        "if user_key in products.keys():\n",
        "  print(f'Product: {user_key}, Price: ${products[user_key]}')\n",
        "else:\n",
        "  print('Invalid product ID')"
      ],
      "metadata": {
        "colab": {
          "base_uri": "https://localhost:8080/"
        },
        "id": "bzvONyq9yqZ7",
        "outputId": "17725633-ba33-44fa-850f-f436479f31f3"
      },
      "execution_count": null,
      "outputs": [
        {
          "output_type": "stream",
          "name": "stdout",
          "text": [
            "Enter product ID: p-01\n",
            "Invalid product ID\n"
          ]
        }
      ]
    },
    {
      "cell_type": "code",
      "source": [
        "def hours(h):\n",
        "  fee = 5 + 2.5*h\n",
        "  if fee<10:\n",
        "    return 10.0\n",
        "  elif fee>20:\n",
        "    return 20.0\n",
        "  else:\n",
        "    return fee\n",
        "\n",
        "def main():\n",
        "  user_hours = int(input(\"Enter number of hours for parking: \"))\n",
        "  fee = hours(user_hours)\n",
        "  print(fee)\n",
        "\n",
        "main()\n"
      ],
      "metadata": {
        "colab": {
          "base_uri": "https://localhost:8080/"
        },
        "id": "cUpInT7_lCrp",
        "outputId": "c411ad85-a327-4fe1-eecb-988a87542db7"
      },
      "execution_count": 40,
      "outputs": [
        {
          "output_type": "stream",
          "name": "stdout",
          "text": [
            "Enter number of hours for parking: 5\n",
            "17.5\n"
          ]
        }
      ]
    }
  ]
}